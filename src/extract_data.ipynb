{
 "cells": [
  {
   "cell_type": "code",
   "execution_count": null,
   "metadata": {},
   "outputs": [],
   "source": [
    "import os\n",
    "import pandas as pd\n",
    "df_train = pd.read_excel(\"DataSet.xlsx\",sheet_name=\"train_data\") \n",
    "df_test = pd.read_excel(\"DataSet.xlsx\",sheet_name=\"test_data\") \n",
    "DATA_PATH_TRAIN = \"/data/train\"\n",
    "DATA_PATH_TEST = \"/data/test\"\n"
   ]
  },
  {
   "cell_type": "code",
   "execution_count": 2,
   "metadata": {},
   "outputs": [],
   "source": [
    "df_train['index']= df_train.index\n",
    "df_test['index']= df_test.index"
   ]
  },
  {
   "cell_type": "code",
   "execution_count": 3,
   "metadata": {},
   "outputs": [],
   "source": [
    "from PyPDF2 import PdfReader\n",
    "def get_pdf_text(data_path,file_name):\n",
    "    try:\n",
    "        path = os.path.join(data_path,f\"{file_name}_.pdf\")\n",
    "        pdf_reader = PdfReader(path)\n",
    "        text = \"\"\n",
    "        for page in pdf_reader.pages:\n",
    "            text += page.extract_text()\n",
    "        return text\n",
    "    except:\n",
    "        return None"
   ]
  },
  {
   "cell_type": "code",
   "execution_count": 4,
   "metadata": {},
   "outputs": [],
   "source": [
    "df_train['text'] = df_train['index'].apply(lambda x: get_pdf_text(data_path=DATA_PATH_TRAIN,file_name=x))\n",
    "df_test['text'] = df_test['index'].apply(lambda x: get_pdf_text(data_path=DATA_PATH_TEST,file_name=x))\n"
   ]
  },
  {
   "cell_type": "code",
   "execution_count": null,
   "metadata": {},
   "outputs": [],
   "source": [
    "df_train[~df_train.text.isna()].drop('index',axis=1).to_csv(\"train_data.csv\",index=False)\n",
    "df_test[~df_test.text.isna()].drop('index',axis=1).to_csv(\"test_data.csv\",index=False)"
   ]
  }
 ],
 "metadata": {
  "kernelspec": {
   "display_name": "parspec",
   "language": "python",
   "name": "python3"
  },
  "language_info": {
   "codemirror_mode": {
    "name": "ipython",
    "version": 3
   },
   "file_extension": ".py",
   "mimetype": "text/x-python",
   "name": "python",
   "nbconvert_exporter": "python",
   "pygments_lexer": "ipython3",
   "version": "3.12.7"
  }
 },
 "nbformat": 4,
 "nbformat_minor": 2
}
